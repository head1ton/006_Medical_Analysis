{
  "nbformat": 4,
  "nbformat_minor": 0,
  "metadata": {
    "colab": {
      "provenance": [],
      "authorship_tag": "ABX9TyOz3F8H3Ic0AMompHW4yisa",
      "include_colab_link": true
    },
    "kernelspec": {
      "name": "python3",
      "display_name": "Python 3"
    },
    "language_info": {
      "name": "python"
    }
  },
  "cells": [
    {
      "cell_type": "markdown",
      "metadata": {
        "id": "view-in-github",
        "colab_type": "text"
      },
      "source": [
        "<a href=\"https://colab.research.google.com/github/head1ton/006_Medical_Analysis/blob/main/notebook/DICOM_%2B_NIfTI_Sample_Create.ipynb\" target=\"_parent\"><img src=\"https://colab.research.google.com/assets/colab-badge.svg\" alt=\"Open In Colab\"/></a>"
      ]
    },
    {
      "cell_type": "code",
      "source": [
        "# 📦 필수 라이브러리 설치\n",
        "!pip install pydicom nibabel opencv-python matplotlib"
      ],
      "metadata": {
        "colab": {
          "base_uri": "https://localhost:8080/"
        },
        "id": "w7a46I2eku1c",
        "outputId": "50709b39-a1f4-4acf-e7a7-bef6819943a4"
      },
      "execution_count": 1,
      "outputs": [
        {
          "output_type": "stream",
          "name": "stdout",
          "text": [
            "Collecting pydicom\n",
            "  Downloading pydicom-3.0.1-py3-none-any.whl.metadata (9.4 kB)\n",
            "Requirement already satisfied: nibabel in /usr/local/lib/python3.11/dist-packages (5.3.2)\n",
            "Requirement already satisfied: opencv-python in /usr/local/lib/python3.11/dist-packages (4.11.0.86)\n",
            "Requirement already satisfied: matplotlib in /usr/local/lib/python3.11/dist-packages (3.10.0)\n",
            "Requirement already satisfied: importlib-resources>=5.12 in /usr/local/lib/python3.11/dist-packages (from nibabel) (6.5.2)\n",
            "Requirement already satisfied: numpy>=1.22 in /usr/local/lib/python3.11/dist-packages (from nibabel) (2.0.2)\n",
            "Requirement already satisfied: packaging>=20 in /usr/local/lib/python3.11/dist-packages (from nibabel) (24.2)\n",
            "Requirement already satisfied: typing-extensions>=4.6 in /usr/local/lib/python3.11/dist-packages (from nibabel) (4.13.1)\n",
            "Requirement already satisfied: contourpy>=1.0.1 in /usr/local/lib/python3.11/dist-packages (from matplotlib) (1.3.1)\n",
            "Requirement already satisfied: cycler>=0.10 in /usr/local/lib/python3.11/dist-packages (from matplotlib) (0.12.1)\n",
            "Requirement already satisfied: fonttools>=4.22.0 in /usr/local/lib/python3.11/dist-packages (from matplotlib) (4.57.0)\n",
            "Requirement already satisfied: kiwisolver>=1.3.1 in /usr/local/lib/python3.11/dist-packages (from matplotlib) (1.4.8)\n",
            "Requirement already satisfied: pillow>=8 in /usr/local/lib/python3.11/dist-packages (from matplotlib) (11.1.0)\n",
            "Requirement already satisfied: pyparsing>=2.3.1 in /usr/local/lib/python3.11/dist-packages (from matplotlib) (3.2.3)\n",
            "Requirement already satisfied: python-dateutil>=2.7 in /usr/local/lib/python3.11/dist-packages (from matplotlib) (2.8.2)\n",
            "Requirement already satisfied: six>=1.5 in /usr/local/lib/python3.11/dist-packages (from python-dateutil>=2.7->matplotlib) (1.17.0)\n",
            "Downloading pydicom-3.0.1-py3-none-any.whl (2.4 MB)\n",
            "\u001b[2K   \u001b[90m━━━━━━━━━━━━━━━━━━━━━━━━━━━━━━━━━━━━━━━━\u001b[0m \u001b[32m2.4/2.4 MB\u001b[0m \u001b[31m24.2 MB/s\u001b[0m eta \u001b[36m0:00:00\u001b[0m\n",
            "\u001b[?25hInstalling collected packages: pydicom\n",
            "Successfully installed pydicom-3.0.1\n"
          ]
        }
      ]
    },
    {
      "cell_type": "code",
      "execution_count": 4,
      "metadata": {
        "id": "rNEmh_LLked9"
      },
      "outputs": [],
      "source": [
        "# 📁 라이브러리 임포트\n",
        "import numpy as np\n",
        "import cv2\n",
        "import matplotlib.pyplot as plt\n",
        "import pydicom\n",
        "from pydicom.dataset import FileDataset\n",
        "import datetime\n",
        "import nibabel as nib\n",
        "import os\n",
        "\n",
        "# 📌 DICOM 생성 함수\n",
        "def create_sample_dicom(output_path=\"sample_xray.dcm\"):\n",
        "    img = np.zeros((256, 256), dtype=np.uint16)\n",
        "    cv2.circle(img, (128, 128), 80, (40000,), thickness=-1)\n",
        "\n",
        "    file_meta = pydicom.Dataset()\n",
        "    file_meta.MediaStorageSOPClassUID = pydicom.uid.generate_uid()\n",
        "    file_meta.MediaStorageSOPInstanceUID = pydicom.uid.generate_uid()\n",
        "    file_meta.ImplementationClassUID = pydicom.uid.generate_uid()\n",
        "\n",
        "    # 📌 TransferSyntaxUID 추가\n",
        "    file_meta.TransferSyntaxUID = pydicom.uid.ImplicitVRLittleEndian  # 또는 다른 적절한 UID\n",
        "\n",
        "    ds = FileDataset(output_path, {}, file_meta=file_meta, preamble=b\"\\0\" * 128)\n",
        "    ds.PatientName = \"Test^XRay\"\n",
        "    ds.PatientID = \"123456\"\n",
        "    ds.Modality = \"CR\"\n",
        "    ds.ContentDate = str(datetime.date.today()).replace(\"-\", \"\")\n",
        "    ds.ContentTime = str(datetime.datetime.now().time()).replace(\":\", \"\").split(\".\")[0]\n",
        "    ds.Rows, ds.Columns = img.shape\n",
        "    ds.SamplesPerPixel = 1\n",
        "    ds.PhotometricInterpretation = \"MONOCHROME2\"\n",
        "    ds.BitsStored = 16\n",
        "    ds.BitsAllocated = 16\n",
        "    ds.HighBit = 15\n",
        "    ds.PixelRepresentation = 0\n",
        "    ds.PixelData = img.tobytes()\n",
        "    ds.save_as(output_path)\n",
        "\n",
        "# 📌 NIfTI 생성 함수\n",
        "def create_sample_nifti(output_path=\"sample_mri.nii.gz\"):\n",
        "    img = np.zeros((128, 128, 64), dtype=np.float32)\n",
        "    img[30:90, 30:90, 30:40] = 1.0\n",
        "    affine = np.eye(4)\n",
        "    nib_img = nib.Nifti1Image(img, affine)\n",
        "    nib.save(nib_img, output_path)\n",
        "\n",
        "# 📂 샘플 생성\n",
        "create_sample_dicom(\"sample_xray.dcm\")\n",
        "create_sample_nifti(\"sample_mri.nii.gz\")\n"
      ]
    },
    {
      "cell_type": "code",
      "source": [
        "# ✅ DICOM 시각화\n",
        "dicom = pydicom.dcmread(\"sample_xray.dcm\")\n",
        "dicom_img = dicom.pixel_array\n",
        "\n",
        "plt.figure(figsize=(6, 6))\n",
        "plt.title(\"Sample Chest X-ray (DICOM)\")\n",
        "plt.imshow(dicom_img, cmap=\"gray\")\n",
        "plt.axis(\"off\")\n",
        "plt.show()\n",
        "\n",
        "# ✅ NIfTI 시각화 (중간 슬라이스)\n",
        "nifti = nib.load(\"sample_mri.nii.gz\")\n",
        "nifti_data = nifti.get_fdata()\n",
        "mid_slice = nifti_data.shape[2] // 2\n",
        "\n",
        "plt.figure(figsize=(6, 6))\n",
        "plt.title(\"Sample Brain MRI Slice (NIfTI)\")\n",
        "plt.imshow(nifti_data[:, :, mid_slice], cmap=\"gray\")\n",
        "plt.axis(\"off\")\n",
        "plt.show()"
      ],
      "metadata": {
        "colab": {
          "base_uri": "https://localhost:8080/",
          "height": 1000
        },
        "id": "YRZ2h8yZkr-2",
        "outputId": "684ceca9-34a2-4bb1-ae9f-39fa50651d27"
      },
      "execution_count": 5,
      "outputs": [
        {
          "output_type": "display_data",
          "data": {
            "text/plain": [
              "<Figure size 600x600 with 1 Axes>"
            ],
            "image/png": "[encoded data removed]"
          },
          "metadata": {}
        },
        {
          "output_type": "display_data",
          "data": {
            "text/plain": [
              "<Figure size 600x600 with 1 Axes>"
            ],
            "image/png": "[encoded data removed]"
          },
          "metadata": {}
        }
      ]
    },
    {
      "cell_type": "code",
      "source": [],
      "metadata": {
        "id": "-fHGzNUEk13A"
      },
      "execution_count": null,
      "outputs": []
    }
  ]
}